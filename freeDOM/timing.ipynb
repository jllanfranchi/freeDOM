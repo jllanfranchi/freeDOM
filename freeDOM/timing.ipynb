{
 "cells": [
  {
   "cell_type": "code",
   "execution_count": 1,
   "metadata": {},
   "outputs": [],
   "source": [
    "import os\n",
    "os.environ[\"CUDA_VISIBLE_DEVICES\"]=\"\"\n",
    "#os.environ[\"CUDA_VISIBLE_DEVICES\"]=\"\"\n",
    "os.environ[\"HDF5_USE_FILE_LOCKING\"] = \"FALSE\"\n",
    "\n",
    "import numpy as np\n",
    "import matplotlib.pyplot as plt\n",
    "\n",
    "%load_ext autoreload\n",
    "%autoreload 2\n",
    "\n",
    "from i3cols_dataloader import load_events\n",
    "from likelihood import LLH\n",
    "\n",
    "%load_ext line_profiler"
   ]
  },
  {
   "cell_type": "code",
   "execution_count": 2,
   "metadata": {},
   "outputs": [],
   "source": [
    "import tensorflow as tf"
   ]
  },
  {
   "cell_type": "code",
   "execution_count": 3,
   "metadata": {},
   "outputs": [],
   "source": [
    "tf.config.threading.set_inter_op_parallelism_threads(1)\n",
    "tf.config.threading.set_intra_op_parallelism_threads(1)"
   ]
  },
  {
   "cell_type": "code",
   "execution_count": 4,
   "metadata": {},
   "outputs": [],
   "source": [
    "plt.rcParams['figure.figsize'] = [12., 8.]\n",
    "plt.rcParams['xtick.labelsize'] = 14\n",
    "plt.rcParams['ytick.labelsize'] = 14 \n",
    "plt.rcParams['axes.labelsize'] = 16\n",
    "plt.rcParams['axes.titlesize'] = 16\n",
    "plt.rcParams['legend.fontsize'] = 14"
   ]
  },
  {
   "cell_type": "code",
   "execution_count": 5,
   "metadata": {},
   "outputs": [],
   "source": [
    "events, labels = load_events(dir='/home/iwsatlas1/peller/work/oscNext/level7_v01.04/140000_i3cols_test')"
   ]
  },
  {
   "cell_type": "code",
   "execution_count": 22,
   "metadata": {},
   "outputs": [],
   "source": [
    "my_llh = LLH(hitnet_file='models/HitNet_08_May_2020-16h02/epoch_3450_model.hdf5',\n",
    "          chargenet_file='models/ChargeNet_08_May_2020-15h59/epoch_600_model.hdf5',\n",
    "         )"
   ]
  },
  {
   "cell_type": "markdown",
   "metadata": {},
   "source": [
    "# timings"
   ]
  },
  {
   "cell_type": "code",
   "execution_count": 11,
   "metadata": {},
   "outputs": [
    {
     "name": "stdout",
     "output_type": "stream",
     "text": [
      "57.1 ms ± 265 µs per loop (mean ± std. dev. of 7 runs, 10 loops each)\n",
      "59.4 ms ± 2.32 ms per loop (mean ± std. dev. of 7 runs, 10 loops each)\n",
      "61.8 ms ± 1.06 ms per loop (mean ± std. dev. of 7 runs, 10 loops each)\n",
      "60 ms ± 776 µs per loop (mean ± std. dev. of 7 runs, 10 loops each)\n",
      "68 ms ± 584 µs per loop (mean ± std. dev. of 7 runs, 10 loops each)\n",
      "116 ms ± 700 µs per loop (mean ± std. dev. of 7 runs, 10 loops each)\n",
      "243 ms ± 4.12 ms per loop (mean ± std. dev. of 7 runs, 1 loop each)\n",
      "578 ms ± 17.9 ms per loop (mean ± std. dev. of 7 runs, 1 loop each)\n",
      "1.64 s ± 31.8 ms per loop (mean ± std. dev. of 7 runs, 1 loop each)\n",
      "5.5 s ± 198 ms per loop (mean ± std. dev. of 7 runs, 1 loop each)\n"
     ]
    }
   ],
   "source": [
    "N_test = np.logspace(0, 5, 10)\n",
    "event = events[333]\n",
    "\n",
    "timings = []\n",
    "stddevs = []\n",
    "\n",
    "for n in N_test:\n",
    "    params = np.repeat(event['params'][np.newaxis, :], n, axis=0)\n",
    "    params += np.random.randn(*params.shape)\n",
    "    t = %timeit -o llh = my_llh(event, params)\n",
    "    timings.append(t)"
   ]
  },
  {
   "cell_type": "code",
   "execution_count": 12,
   "metadata": {},
   "outputs": [
    {
     "data": {
      "image/png": "[encoded data removed]",
      "text/plain": [
       "<Figure size 864x576 with 1 Axes>"
      ]
     },
     "metadata": {
      "needs_background": "light"
     },
     "output_type": "display_data"
    }
   ],
   "source": [
    "mean = np.array([t.average for t in timings])/N_test * 1e6\n",
    "std = np.array([t.stdev for t in timings])/N_test * 1e6\n",
    "\n",
    "plt.errorbar(N_test, mean, yerr=std)\n",
    "plt.gca().set_xscale('log')\n",
    "plt.gca().set_yscale('log')\n",
    "plt.gca().set_xlabel('N likelihood points requested')\n",
    "plt.gca().set_ylabel(r'$\\mu$s / point')\n",
    "plt.grid()\n",
    "plt.savefig('timings_cpu_single.png')"
   ]
  },
  {
   "cell_type": "code",
   "execution_count": 272,
   "metadata": {},
   "outputs": [
    {
     "data": {
      "text/plain": [
       "21"
      ]
     },
     "execution_count": 272,
     "metadata": {},
     "output_type": "execute_result"
    }
   ],
   "source": [
    "len(event['hits'])"
   ]
  },
  {
   "cell_type": "code",
   "execution_count": 23,
   "metadata": {},
   "outputs": [
    {
     "data": {
      "text/plain": [
       "Timer unit: 1e-06 s\n",
       "\n",
       "Total time: 0.927922 s\n",
       "File: /home/iwsatlas1/peller/freeDOM/freeDOM/likelihood.py\n",
       "Function: __call__ at line 27\n",
       "\n",
       "Line #      Hits         Time  Per Hit   % Time  Line Contents\n",
       "==============================================================\n",
       "    27                                               def __call__(self, event, params):\n",
       "    28                                                   \"\"\"Evaluate LLH for a given event + params\n",
       "    29                                           \n",
       "    30                                                   event : dict containing:\n",
       "    31                                                       'total_charge' : float\n",
       "    32                                                       'hits' : array shape (n_hits, 5)\n",
       "    33                                                           each row is (x, y, z) DOM poitions, time, charge\n",
       "    34                                                   params : ndarray\n",
       "    35                                                       shape (n_likelihood_points, len(labels)) \n",
       "    36                                           \n",
       "    37                                                   \n",
       "    38                                                   Returns:\n",
       "    39                                                   --------\n",
       "    40                                                   total_llh : ndarray\n",
       "    41                                                   charge_llh : ndarray\n",
       "    42                                                   all_hits_llh : ndarray\n",
       "    43                                                   single_hit_llhs : ndarray\n",
       "    44                                           \n",
       "    45                                                   \"\"\"\n",
       "    46                                           \n",
       "    47         1          2.0      2.0      0.0          if params.ndim == 1:\n",
       "    48                                                       params = np.array([params])\n",
       "    49         1          2.0      2.0      0.0          n_points = params.shape[0]    \n",
       "    50                                           \n",
       "    51                                                   # Charge Net\n",
       "    52         1         67.0     67.0      0.0          inputs = [np.repeat(event['total_charge'], repeats=n_points)[:, np.newaxis], params]\n",
       "    53         1     226644.0 226644.0     24.4          score = self.chargenet.predict(inputs, batch_size=self.chargenet_batchsize)\n",
       "    54         1          4.0      4.0      0.0          score = score[:, 0]\n",
       "    55         1         96.0     96.0      0.0          score = np.clip(score, self.epsilon, 1-self.epsilon)\n",
       "    56         1         57.0     57.0      0.0          charge_llh = -(np.log(score) - np.log(1 - score))\n",
       "    57                                           \n",
       "    58                                                   # Hit Net\n",
       "    59         1          1.0      1.0      0.0          hits = event['hits']\n",
       "    60         1          1.0      1.0      0.0          n_hits = hits.shape[0]\n",
       "    61                                           \n",
       "    62         1          1.0      1.0      0.0          if n_hits > 0:\n",
       "    63         1          2.0      2.0      0.0              hit_charges = hits[:, 4]\n",
       "    64                                           \n",
       "    65         1          1.0      1.0      0.0              inputs = []\n",
       "    66         1       2454.0   2454.0      0.3              inputs.append(np.repeat(hits[:, np.newaxis, :], repeats=n_points, axis=1).reshape(n_hits * n_points, -1))\n",
       "    67         1       2572.0   2572.0      0.3              inputs.append(np.repeat(params[np.newaxis, :], repeats=n_hits, axis=0).reshape(n_hits * n_points, -1))\n",
       "    68                                           \n",
       "    69         1     689667.0 689667.0     74.3              score = self.hitnet.predict(inputs, batch_size=self.hitnet_batchsize)\n",
       "    70         1          7.0      7.0      0.0              score = score.reshape(n_hits, n_points)\n",
       "    71         1        809.0    809.0      0.1              score = np.clip(score, self.epsilon, 1-self.epsilon)\n",
       "    72         1       5114.0   5114.0      0.6              single_hit_llhs = -(np.log(score) - np.log(1 - score))\n",
       "    73                                           \n",
       "    74         1        398.0    398.0      0.0              all_hits_llh = hit_charges @ single_hit_llhs\n",
       "    75                                           \n",
       "    76                                                   else:\n",
       "    77                                                       single_hit_llhs = np.array([])\n",
       "    78                                                       all_hits_llh = 0.\n",
       "    79                                           \n",
       "    80         1         17.0     17.0      0.0          total_llh = all_hits_llh + charge_llh\n",
       "    81                                           \n",
       "    82         1          6.0      6.0      0.0          return total_llh, charge_llh, all_hits_llh, single_hit_llhs.T"
      ]
     },
     "metadata": {},
     "output_type": "display_data"
    }
   ],
   "source": [
    "%lprun -f my_llh.__call__ my_llh(event, np.repeat(event['params'][np.newaxis, :], 10000, axis=0))"
   ]
  },
  {
   "cell_type": "code",
   "execution_count": null,
   "metadata": {},
   "outputs": [],
   "source": []
  }
 ],
 "metadata": {
  "kernelspec": {
   "display_name": "Python 3",
   "language": "python",
   "name": "python3"
  },
  "language_info": {
   "codemirror_mode": {
    "name": "ipython",
    "version": 3
   },
   "file_extension": ".py",
   "mimetype": "text/x-python",
   "name": "python",
   "nbconvert_exporter": "python",
   "pygments_lexer": "ipython3",
   "version": "3.7.4"
  }
 },
 "nbformat": 4,
 "nbformat_minor": 4
}
